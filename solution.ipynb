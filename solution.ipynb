{
  "nbformat": 4,
  "nbformat_minor": 0,
  "metadata": {
    "colab": {
      "provenance": []
    },
    "kernelspec": {
      "name": "python3",
      "display_name": "Python 3"
    },
    "language_info": {
      "name": "python"
    }
  },
  "cells": [
    {
      "cell_type": "code",
      "execution_count": 1,
      "metadata": {
        "id": "D9tM55wTiQ_H"
      },
      "outputs": [],
      "source": [
        "import numpy as np\n",
        "\n",
        "from tqdm import tqdm"
      ]
    },
    {
      "cell_type": "code",
      "source": [
        "# allBoards is the powerset for [1,...,maxSum]\n",
        "# https://leetcode.com/problems/subsets/description/\n",
        "def getAllBoards(maxSum):\n",
        "    nums = range(1, maxSum+1)\n",
        "    solutions = []\n",
        "    sub = []\n",
        "\n",
        "    def dfs(i):\n",
        "        if i == len(nums):\n",
        "            solutions.append(frozenset(sub[:])) # need frozensets as dict keys\n",
        "            return\n",
        "\n",
        "        sub.append(nums[i])\n",
        "        dfs(i+1) # with nums[i]\n",
        "        sub.pop()\n",
        "        dfs(i+1) # without nums[i]\n",
        "\n",
        "    dfs(0)\n",
        "    return solutions\n",
        "\n",
        "# legalMoves are subsets of candidates which sum to target\n",
        "# https://leetcode.com/problems/combination-sum-ii/description/\n",
        "def getLegalMoves(candidates, target):\n",
        "    solutions = []\n",
        "    candidates.sort()\n",
        "\n",
        "    def dfs(i, sol, remaining):\n",
        "        if remaining == 0:\n",
        "            solutions.append(set(sol[:]))\n",
        "            return\n",
        "\n",
        "        if remaining < 0 or i == len(candidates):\n",
        "            return\n",
        "\n",
        "        sol.append(candidates[i])\n",
        "        dfs(i+1, sol, remaining - candidates[i])\n",
        "        sol.pop()\n",
        "\n",
        "        while i+1 < len(candidates) and candidates[i+1] == candidates[i]:\n",
        "            i += 1\n",
        "\n",
        "        dfs(i+1, sol, remaining)\n",
        "\n",
        "    dfs(0, [], target)\n",
        "    return solutions\n",
        "\n",
        "# to play, specify {board : {diceSum : move}} for every board and diceSum\n",
        "# score is sum of remaining tiles when moves run out\n",
        "def play(moves):\n",
        "    board = frozenset(range(1,maxSum+1))\n",
        "\n",
        "    while len(board) > 0:\n",
        "        d1 = np.random.randint(1, maxFace+1)\n",
        "        d2 = np.random.randint(1, maxFace+1)\n",
        "        move = moves[board][d1 + d2]\n",
        "\n",
        "        if move is None:\n",
        "            return sum(board)\n",
        "\n",
        "        board = board - move\n",
        "\n",
        "    return 0"
      ],
      "metadata": {
        "id": "b8R8eVJTiR9G"
      },
      "execution_count": 2,
      "outputs": []
    },
    {
      "cell_type": "code",
      "source": [
        "maxSum = 12\n",
        "maxFace = 6\n",
        "allBoards = getAllBoards(maxSum)"
      ],
      "metadata": {
        "id": "rT-JHUi0iTIJ"
      },
      "execution_count": 3,
      "outputs": []
    },
    {
      "cell_type": "code",
      "source": [
        "# expected scores for playing optimally at every board\n",
        "scores = {board : 0 for board in allBoards}\n",
        "\n",
        "# bestMoves in response to every board and diceSum\n",
        "bestMoves = {board : {diceSum : None for diceSum in range(2, maxSum+1)} for board in allBoards}\n",
        "\n",
        "for board in sorted(allBoards, key=len): # grow tables from most solved to least solved board\n",
        "    for d1 in range(1, maxFace+1):\n",
        "        for d2 in range(1, maxFace+1):\n",
        "            legalMoves = getLegalMoves(list(board), d1+d2)\n",
        "\n",
        "            bestMove = None\n",
        "            bestScore = sum(board)\n",
        "\n",
        "            for legalMove in legalMoves:\n",
        "                boardAfter = board - legalMove\n",
        "\n",
        "                if scores[boardAfter] < bestScore:\n",
        "                    bestMove = legalMove\n",
        "                    bestScore = scores[boardAfter]\n",
        "\n",
        "            bestMoves[board][d1+d2] = bestMove\n",
        "            scores[board] += bestScore / (maxFace ** 2)"
      ],
      "metadata": {
        "id": "PAWChmziEHvb"
      },
      "execution_count": 4,
      "outputs": []
    },
    {
      "cell_type": "code",
      "source": [
        "N = 100000\n",
        "score = 0\n",
        "\n",
        "for _ in tqdm(range(N)):\n",
        "    score += play(bestMoves)\n",
        "\n",
        "print(f\"{(score / N):.6f}\")"
      ],
      "metadata": {
        "colab": {
          "base_uri": "https://localhost:8080/"
        },
        "id": "5yJDdw48ix-9",
        "outputId": "354d45a2-a56c-4349-df2b-72efbca7e3a4"
      },
      "execution_count": 5,
      "outputs": [
        {
          "output_type": "stream",
          "name": "stderr",
          "text": [
            "100%|██████████| 100000/100000 [00:06<00:00, 15181.20it/s]"
          ]
        },
        {
          "output_type": "stream",
          "name": "stdout",
          "text": [
            "35.091920\n"
          ]
        },
        {
          "output_type": "stream",
          "name": "stderr",
          "text": [
            "\n"
          ]
        }
      ]
    }
  ]
}